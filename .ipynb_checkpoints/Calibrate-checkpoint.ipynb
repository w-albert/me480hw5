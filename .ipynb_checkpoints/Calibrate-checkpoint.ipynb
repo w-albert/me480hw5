{
 "cells": [
  {
   "cell_type": "code",
   "execution_count": 104,
   "metadata": {},
   "outputs": [
    {
     "data": {
      "application/vnd.jupyter.widget-view+json": {
       "model_id": "4b9c7d43d5f34dfa886efb4703e1c44e",
       "version_major": 2,
       "version_minor": 0
      },
      "text/plain": [
       "VBox(children=(HTML(value=''), Renderer(background='#cccc88', background_opacity=0.0, camera=PerspectiveCamera…"
      ]
     },
     "metadata": {},
     "output_type": "display_data"
    }
   ],
   "source": [
    "from solid import *\n",
    "from solid.utils import *\n",
    "import viewscad\n",
    "\n",
    "r = viewscad.Renderer(openscad_exec='C:\\Program Files\\OpenSCAD\\openscad.exe')\n",
    "#1a\n",
    "#2a\n",
    "outer = cylinder(r=10,h=10,segments=50)\n",
    "inner = cylinder(r=5,h=10,segments=50)\n",
    "cyl = outer - hole()(inner)\n",
    "r.render(cyl)\n",
    "\n"
   ]
  },
  {
   "cell_type": "code",
   "execution_count": 103,
   "metadata": {},
   "outputs": [
    {
     "data": {
      "application/vnd.jupyter.widget-view+json": {
       "model_id": "a68253516cd14c04a2f5d83d8d137a00",
       "version_major": 2,
       "version_minor": 0
      },
      "text/plain": [
       "VBox(children=(HTML(value=''), Renderer(background='#cccc88', background_opacity=0.0, camera=PerspectiveCamera…"
      ]
     },
     "metadata": {},
     "output_type": "display_data"
    }
   ],
   "source": [
    "#1b\n",
    "def cyl_gen(id=5, od=10):\n",
    "    if type(id) == str or type(od) == \"str\":\n",
    "        print(\"Invalid input\")\n",
    "    else:\n",
    "        outer = cylinder(d = od)\n",
    "        inner = cylinder(d = id)\n",
    "        pipe = outer - hole()(inner)\n",
    "        r.render(pipe)\n",
    "    \n",
    "cyl_gen(2,5)"
   ]
  },
  {
   "cell_type": "code",
   "execution_count": 102,
   "metadata": {},
   "outputs": [
    {
     "data": {
      "application/vnd.jupyter.widget-view+json": {
       "model_id": "18505dadcab743adbea49662e1e9425b",
       "version_major": 2,
       "version_minor": 0
      },
      "text/plain": [
       "VBox(children=(HTML(value=''), Renderer(background='#cccc88', background_opacity=0.0, camera=PerspectiveCamera…"
      ]
     },
     "metadata": {},
     "output_type": "display_data"
    }
   ],
   "source": [
    "#1c\n",
    "def overlap(dims):\n",
    "    # dims = [id1, id2, t]\n",
    "    id1 = dims[0]\n",
    "    id2 = dims[1]\n",
    "    t = dims[2]\n",
    "    \n",
    "    pipe1in = cylinder(d=id1)\n",
    "    pipe1out = cylinder(d=(id1+t))\n",
    "    pipe1 = pipe1out+hole()(pipe1in)\n",
    "    #r.render(pipe1)\n",
    "    \n",
    "    pipe2in = cylinder(d=id2)\n",
    "    pipe2out = cylinder(d=(id2+t))\n",
    "    pipe2 = pipe2out+hole()(pipe2in)\n",
    "    #r.render(pipe2)\n",
    "    \n",
    "    pipe2move = translate([0,(id1+t/1.5),0])(pipe2)\n",
    "    #r.render(pipe2move)\n",
    "    \n",
    "    both = pipe2move+pipe1\n",
    "    r.render(both)\n",
    "\n",
    "dims = [2, 4, 4]\n",
    "overlap(dims)"
   ]
  },
  {
   "cell_type": "code",
   "execution_count": 113,
   "metadata": {},
   "outputs": [
    {
     "data": {
      "application/vnd.jupyter.widget-view+json": {
       "model_id": "0eaa74a6a9254d9dbc6e023e390bb931",
       "version_major": 2,
       "version_minor": 0
      },
      "text/plain": [
       "VBox(children=(HTML(value=''), Renderer(background='#cccc88', background_opacity=0.0, camera=PerspectiveCamera…"
      ]
     },
     "metadata": {},
     "output_type": "display_data"
    }
   ],
   "source": [
    "#2b\n",
    "#Make a new function that takes in a list of diameters,\n",
    "#a separation distance, and a height and generates cylindrical posts \n",
    "#and connects them together to a common base.\n",
    "\n",
    "def postgen(dims):\n",
    "    #dims = [d1, d2, d3, d4, sepdist, postheight]\n",
    "    d1 = dims[0]\n",
    "    d2 = dims[1]\n",
    "    d3 = dims[2]\n",
    "    d4 = dims[3]\n",
    "    sd = dims[4]\n",
    "    ht = dims[5]\n",
    "    \n",
    "    post1 = cylinder(d=d1,h=ht)\n",
    "    post2 = translate([sd,0,0])(cylinder(d=d2,h=ht))\n",
    "    post3 = translate([2*sd,0,0])(cylinder(d=d3,h=ht))\n",
    "    post4 = translate([3*sd,0,0])(cylinder(d=d4,h=ht))\n",
    "    posts = post1 + post2 + post3 + post4\n",
    "    #r.render(posts)\n",
    "    \n",
    "    base1 = cylinder(d=d1+2)\n",
    "    base2 = translate([3*sd,0,0])(cylinder(d=d4+1))\n",
    "    base = hull()(base1,base2)\n",
    "    base = translate([0,0,-1])(base)\n",
    "    #r.render(base)\n",
    "    \n",
    "    all = base + posts\n",
    "    r.render(all)\n",
    "    \n",
    "    \n",
    "postdims = [3,3,3,3,5,4]\n",
    "postgen(postdims)"
   ]
  }
 ],
 "metadata": {
  "kernelspec": {
   "display_name": "Python 3",
   "language": "python",
   "name": "python3"
  },
  "language_info": {
   "codemirror_mode": {
    "name": "ipython",
    "version": 3
   },
   "file_extension": ".py",
   "mimetype": "text/x-python",
   "name": "python",
   "nbconvert_exporter": "python",
   "pygments_lexer": "ipython3",
   "version": "3.7.3"
  }
 },
 "nbformat": 4,
 "nbformat_minor": 2
}
