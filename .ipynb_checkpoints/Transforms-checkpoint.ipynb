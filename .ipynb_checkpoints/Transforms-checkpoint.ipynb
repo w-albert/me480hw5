{
 "cells": [
  {
   "cell_type": "code",
   "execution_count": 21,
   "metadata": {},
   "outputs": [
    {
     "data": {
      "application/vnd.jupyter.widget-view+json": {
       "model_id": "8c52d5dc836f43a281e04d2669313509",
       "version_major": 2,
       "version_minor": 0
      },
      "text/plain": [
       "VBox(children=(HTML(value=''), Renderer(background='#cccc88', background_opacity=0.0, camera=PerspectiveCamera…"
      ]
     },
     "metadata": {},
     "output_type": "display_data"
    }
   ],
   "source": [
    "from solid import *\n",
    "from solid.utils import *\n",
    "import viewscad\n",
    "import numpy as np\n",
    "import math\n",
    "\n",
    "r = viewscad.Renderer(openscad_exec='C:\\Program Files\\OpenSCAD\\openscad.exe')\n",
    "\n",
    "#1a\n",
    "unit = cube(1, True)\n",
    "#r.render(unit)\n",
    "\n",
    "theta = [20,10,30]\n",
    "\n",
    "unit = rotate(theta[0],[0,0,1])(unit)\n",
    "#r.render(unit)\n",
    "unit = rotate(theta[1],[1,0,0])(unit)\n",
    "#r.render(unit)\n",
    "unit = rotate(theta[2],[0,0,1])(unit)\n",
    "r.render(unit)"
   ]
  },
  {
   "cell_type": "code",
   "execution_count": 20,
   "metadata": {},
   "outputs": [
    {
     "data": {
      "application/vnd.jupyter.widget-view+json": {
       "model_id": "861435a542aa434eae8b7141081b77c4",
       "version_major": 2,
       "version_minor": 0
      },
      "text/plain": [
       "VBox(children=(HTML(value=''), Renderer(background='#cccc88', background_opacity=0.0, camera=PerspectiveCamera…"
      ]
     },
     "metadata": {},
     "output_type": "display_data"
    },
    {
     "data": {
      "application/vnd.jupyter.widget-view+json": {
       "model_id": "7b847366d0444cef9512c1f8ee0cf51c",
       "version_major": 2,
       "version_minor": 0
      },
      "text/plain": [
       "VBox(children=(HTML(value=''), Renderer(background='#cccc88', background_opacity=0.0, camera=PerspectiveCamera…"
      ]
     },
     "metadata": {},
     "output_type": "display_data"
    }
   ],
   "source": [
    "theta = [20,10,30]\n",
    "\n",
    "R_z1 = np.array([[math.cos(theta[0]),    -math.sin(theta[0]),    0],\n",
    "                [math.sin(theta[0]),    math.cos(theta[0]),     0],\n",
    "                [0,                     0,                      1]\n",
    "                ])\n",
    "    \n",
    "R_x = np.array([[1,         0,                  0                   ],\n",
    "                [0,         math.cos(theta[1]), -math.sin(theta[1]) ],\n",
    "                [0,         math.sin(theta[1]), math.cos(theta[1])  ]\n",
    "                ])\n",
    "                          \n",
    "R_z2 = np.array([[math.cos(theta[2]),    -math.sin(theta[2]),    0],\n",
    "                [math.sin(theta[2]),    math.cos(theta[2]),     0],\n",
    "                [0,                     0,                      1]\n",
    "                ])\n",
    "                     \n",
    "                     \n",
    "R = np.dot(R_z1, R_x)\n",
    "R = np.dot(R, R_z2)\n",
    "\n",
    "unit = cube(1,True)\n",
    "r.render(unit)\n",
    "\n",
    "y = multmatrix(R)(unit)\n",
    "r.render(y)"
   ]
  },
  {
   "cell_type": "code",
   "execution_count": 16,
   "metadata": {},
   "outputs": [
    {
     "data": {
      "application/vnd.jupyter.widget-view+json": {
       "model_id": "b9a783c5ed584aa3a2a28af92683e4a7",
       "version_major": 2,
       "version_minor": 0
      },
      "text/plain": [
       "VBox(children=(HTML(value=''), Renderer(background='#cccc88', background_opacity=0.0, camera=PerspectiveCamera…"
      ]
     },
     "metadata": {},
     "output_type": "display_data"
    },
    {
     "data": {
      "application/vnd.jupyter.widget-view+json": {
       "model_id": "c72070748014451e875346b61b87bdc3",
       "version_major": 2,
       "version_minor": 0
      },
      "text/plain": [
       "VBox(children=(HTML(value=''), Renderer(background='#cccc88', background_opacity=0.0, camera=PerspectiveCamera…"
      ]
     },
     "metadata": {},
     "output_type": "display_data"
    },
    {
     "data": {
      "application/vnd.jupyter.widget-view+json": {
       "model_id": "c56946dcd8104551a0768ae44bcc0dcc",
       "version_major": 2,
       "version_minor": 0
      },
      "text/plain": [
       "VBox(children=(HTML(value=''), Renderer(background='#cccc88', background_opacity=0.0, camera=PerspectiveCamera…"
      ]
     },
     "metadata": {},
     "output_type": "display_data"
    },
    {
     "data": {
      "application/vnd.jupyter.widget-view+json": {
       "model_id": "937c4e23c32c412fbf2c947200012cf2",
       "version_major": 2,
       "version_minor": 0
      },
      "text/plain": [
       "VBox(children=(HTML(value=''), Renderer(background='#cccc88', background_opacity=0.0, camera=PerspectiveCamera…"
      ]
     },
     "metadata": {},
     "output_type": "display_data"
    }
   ],
   "source": [
    "#1b\n",
    "unit = cube(1, True)\n",
    "\n",
    "\n",
    "theta = [20,10,30]\n",
    "move = [-5,-5,0]\n",
    "\n",
    "unit = translate(move)(unit)\n",
    "r.render(unit)\n",
    "unit = rotate(theta[0],[0,0,1])(unit)\n",
    "r.render(unit)\n",
    "unit = rotate(theta[1],[1,0,0])(unit)\n",
    "r.render(unit)\n",
    "unit = rotate(theta[2],[0,0,1])(unit)\n",
    "r.render(unit)"
   ]
  },
  {
   "cell_type": "code",
   "execution_count": 19,
   "metadata": {},
   "outputs": [
    {
     "ename": "TypeError",
     "evalue": "data type not understood",
     "output_type": "error",
     "traceback": [
      "\u001b[1;31m---------------------------------------------------------------------------\u001b[0m",
      "\u001b[1;31mTypeError\u001b[0m                                 Traceback (most recent call last)",
      "\u001b[1;32m<ipython-input-19-a4e160197707>\u001b[0m in \u001b[0;36m<module>\u001b[1;34m\u001b[0m\n\u001b[0;32m      5\u001b[0m \u001b[1;33m\u001b[0m\u001b[0m\n\u001b[0;32m      6\u001b[0m Sx = np.array([1, b],\n\u001b[1;32m----> 7\u001b[1;33m              [0, 1])\n\u001b[0m\u001b[0;32m      8\u001b[0m \u001b[1;33m\u001b[0m\u001b[0m\n\u001b[0;32m      9\u001b[0m \u001b[0mtest\u001b[0m \u001b[1;33m=\u001b[0m \u001b[0mshear\u001b[0m\u001b[1;33m(\u001b[0m\u001b[0mSx\u001b[0m\u001b[1;33m,\u001b[0m \u001b[0munit\u001b[0m\u001b[1;33m)\u001b[0m\u001b[1;33m\u001b[0m\u001b[1;33m\u001b[0m\u001b[0m\n",
      "\u001b[1;31mTypeError\u001b[0m: data type not understood"
     ]
    }
   ],
   "source": [
    "#1c\n",
    "unit = cube(1, True)\n",
    "\n",
    "b = 0.5\n",
    "\n",
    "Sx = np.array([1, b],\n",
    "             [0, 1])\n",
    "\n",
    "test = shear(Sx, unit)\n",
    "r.render(unit)"
   ]
  }
 ],
 "metadata": {
  "kernelspec": {
   "display_name": "Python 3",
   "language": "python",
   "name": "python3"
  },
  "language_info": {
   "codemirror_mode": {
    "name": "ipython",
    "version": 3
   },
   "file_extension": ".py",
   "mimetype": "text/x-python",
   "name": "python",
   "nbconvert_exporter": "python",
   "pygments_lexer": "ipython3",
   "version": "3.7.3"
  }
 },
 "nbformat": 4,
 "nbformat_minor": 2
}
