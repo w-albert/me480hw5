{
 "cells": [
  {
   "cell_type": "code",
   "execution_count": 2,
   "metadata": {},
   "outputs": [
    {
     "data": {
      "application/vnd.jupyter.widget-view+json": {
       "model_id": "1a2e8fca032a4175bcf7c1ddc0f3e906",
       "version_major": 2,
       "version_minor": 0
      },
      "text/plain": [
       "VBox(children=(HTML(value=''), Renderer(background='#cccc88', background_opacity=0.0, camera=PerspectiveCamera…"
      ]
     },
     "metadata": {},
     "output_type": "display_data"
    }
   ],
   "source": [
    "from solid import *\n",
    "from solid.utils import *\n",
    "import viewscad\n",
    "\n",
    "r = viewscad.Renderer(openscad_exec='C:\\Program Files\\OpenSCAD\\openscad.exe')\n",
    "\n",
    "def technic(l,w): #,x):\n",
    "    h = 10\n",
    "    diam = 5.25\n",
    "    d = 8\n",
    "    corner1 = (cylinder(d=diam+2,h=h))\n",
    "    corner2 = translate([(l-1)*d,0,0])(corner1)\n",
    "    corner3 = translate([0,(w-1)*d,0])(corner1)\n",
    "    corner4 = translate([(l-1)*d,(w-1)*d,0])(corner1)\n",
    "    base = hull()(corner1,corner2,corner3,corner4)\n",
    "    #r.render(base)\n",
    "    \n",
    "    holes = 0\n",
    "    for i in range(0,l):\n",
    "        holes = holes + translate([i*d,0,0])(cylinder(d=diam,h=h))\n",
    "    for j in range(0,w):\n",
    "        holes = holes + translate([0,j*d,0])(holes)\n",
    "    #r.render(holes)\n",
    "    \n",
    "    beam = base - hole()(holes)\n",
    "    r.render(beam)\n",
    "   # return beam\n",
    "    \n",
    "    \n",
    "    #if x == True:\n",
    "    #    hole = cube([diam,diam/3,h],True)+cube([diam/2,diam,h],True)\n",
    "    #    outer = base\n",
    "    #    outer = outer + hole()(hole)\n",
    "    #    r.render(base)\n",
    "    \n",
    "technic(3,2)\n",
    "#scad_render(technic(3,2))"
   ]
  },
  {
   "cell_type": "code",
   "execution_count": 56,
   "metadata": {},
   "outputs": [
    {
     "data": {
      "application/vnd.jupyter.widget-view+json": {
       "model_id": "88d2b3ae6c5745c99479912be7a3518e",
       "version_major": 2,
       "version_minor": 0
      },
      "text/plain": [
       "VBox(children=(HTML(value=''), Renderer(background='#cccc88', background_opacity=0.0, camera=PerspectiveCamera…"
      ]
     },
     "metadata": {},
     "output_type": "display_data"
    }
   ],
   "source": [
    "def nema(size):\n",
    "    diag = 0.1*size*25.4\n",
    "    length = diag / sqrt(2)\n",
    "    h = 5\n",
    "    diam = 3.25\n",
    "    \n",
    "    base = cube([1.5*length,1.5*length,h],True)\n",
    "    base = translate([0,0,h/2])(base)\n",
    "    base += translate([0.75*length-2.5,0,5-0.75*length])(cube([5,1.5*length,1.5*length],True))\n",
    "    #r.render(base)\n",
    "    \n",
    "    mount1 = translate([-0.5*length,-0.5*length,0])(cylinder(d=diam,h=h))\n",
    "    mount2 = translate([length,0,0])(mount1)\n",
    "    mount3 = translate([0,length,0])(mount1)\n",
    "    mount4 = translate([length,length,0])(mount1)\n",
    "    shaft = cylinder(d=22,h=h)\n",
    "    mounts = mount1 + mount2 + mount3 + mount4 + shaft\n",
    "    #r.render(mounts)\n",
    "    \n",
    "    plate = base - hole()(mounts)\n",
    "    #r.render(plate)\n",
    "    \n",
    "    \n",
    "    technic = translate([length/2,0,0])(cylinder(d=5.25,h=2*h))\n",
    "    technics = technic + translate([0,8,0])(technic) + translate([0,-8,0])(technic)\n",
    "    technics += translate([-length,0,0])(technics)\n",
    "    mount = plate - hole()(technics)\n",
    "    r.render(mount)\n",
    "    #technicx += translate([0,size,0])(technicx)   \n",
    "    \n",
    "    #technicy = 0\n",
    "    #for i in range(1,technics):\n",
    "    #    technicy += translate([0,i*size/technics,0])(cylinder(d=5.25,h=h))\n",
    "    #technicy += translate([size,0,0])(technicy)\n",
    "    \n",
    "    #technic = technicy + technicx\n",
    "    #r.render(technic)\n",
    "    #plate = plate - hole()(technic)\n",
    "   # r.render(plate)\n",
    "    #return plate\n",
    "\n",
    "nema(17)\n",
    "#scad_render(nema(17))"
   ]
  },
  {
   "cell_type": "code",
   "execution_count": 59,
   "metadata": {},
   "outputs": [
    {
     "data": {
      "application/vnd.jupyter.widget-view+json": {
       "model_id": "84046752f7fa4a5a962adf6d35513cdf",
       "version_major": 2,
       "version_minor": 0
      },
      "text/plain": [
       "VBox(children=(HTML(value=''), Renderer(background='#cccc88', background_opacity=0.0, camera=PerspectiveCamera…"
      ]
     },
     "metadata": {},
     "output_type": "display_data"
    }
   ],
   "source": [
    "def couple(shaft):\n",
    "    h=10\n",
    "    body = cylinder(d=2*shaft,h=h)\n",
    "    techpost = translate([0,0,h])(cylinder(d=5.125, h=h/2))\n",
    "    adapter = body + techpost\n",
    "    #r.render(adapter)\n",
    "    shaftdiam = cylinder(d=shaft,h=0.75*h)\n",
    "    Dcut = translate([1.9,-2.5,0])(cube([1,h,h]))\n",
    "    shaftin = shaftdiam - Dcut\n",
    "    #r.render(shaftin)\n",
    "    final = adapter - shaftin\n",
    "    r.render(final)\n",
    "    \n",
    "couple(5)"
   ]
  }
 ],
 "metadata": {
  "kernelspec": {
   "display_name": "Python 3",
   "language": "python",
   "name": "python3"
  },
  "language_info": {
   "codemirror_mode": {
    "name": "ipython",
    "version": 3
   },
   "file_extension": ".py",
   "mimetype": "text/x-python",
   "name": "python",
   "nbconvert_exporter": "python",
   "pygments_lexer": "ipython3",
   "version": "3.7.3"
  }
 },
 "nbformat": 4,
 "nbformat_minor": 2
}
