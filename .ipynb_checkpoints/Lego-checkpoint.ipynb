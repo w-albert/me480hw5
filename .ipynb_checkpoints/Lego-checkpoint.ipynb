{
 "cells": [
  {
   "cell_type": "code",
   "execution_count": 42,
   "metadata": {},
   "outputs": [
    {
     "data": {
      "application/vnd.jupyter.widget-view+json": {
       "model_id": "e3bfbc78a07a495f83eace65d2a05665",
       "version_major": 2,
       "version_minor": 0
      },
      "text/plain": [
       "VBox(children=(HTML(value=''), Renderer(background='#cccc88', background_opacity=0.0, camera=PerspectiveCamera…"
      ]
     },
     "metadata": {},
     "output_type": "display_data"
    }
   ],
   "source": [
    "from solid import *\n",
    "from solid.utils import *\n",
    "import viewscad\n",
    "\n",
    "r = viewscad.Renderer(openscad_exec='C:\\Program Files\\OpenSCAD\\openscad.exe')\n",
    "\n",
    "def technic(l,w): #,x):\n",
    "    h = 10\n",
    "    diam = 5\n",
    "    d = diam + 2\n",
    "    corner1 = (cylinder(d=diam+2,h=h))\n",
    "    corner2 = translate([(l-1)*d,0,0])(corner1)\n",
    "    corner3 = translate([0,(w-1)*d,0])(corner1)\n",
    "    corner4 = translate([(l-1)*d,(w-1)*d,0])(corner1)\n",
    "    base = hull()(corner1,corner2,corner3,corner4)\n",
    "    #r.render(base)\n",
    "    \n",
    "    holes = 0\n",
    "    for i in range(0,l):\n",
    "        holes = holes + translate([i*d,0,0])(cylinder(d=diam,h=h))\n",
    "    for j in range(0,w):\n",
    "        holes = holes + translate([0,j*d,0])(holes)\n",
    "    #r.render(holes)\n",
    "    \n",
    "    beam = base - hole()(holes)\n",
    "    r.render(beam)\n",
    "    \n",
    "    \n",
    "    #if x == True:\n",
    "    #    hole = cube([diam,diam/3,h],True)+cube([diam/2,diam,h],True)\n",
    "    #    outer = base\n",
    "    #    outer = outer + hole()(hole)\n",
    "    #    r.render(base)\n",
    "    \n",
    "technic(5,2)"
   ]
  },
  {
   "cell_type": "code",
   "execution_count": 33,
   "metadata": {},
   "outputs": [
    {
     "data": {
      "application/vnd.jupyter.widget-view+json": {
       "model_id": "4fd1ad8afb72439188e0af5efdab1989",
       "version_major": 2,
       "version_minor": 0
      },
      "text/plain": [
       "VBox(children=(HTML(value=''), Renderer(background='#cccc88', background_opacity=0.0, camera=PerspectiveCamera…"
      ]
     },
     "metadata": {},
     "output_type": "display_data"
    }
   ],
   "source": [
    "def nema(size):\n",
    "    size = 0.1*size\n",
    "    h = 0.5\n",
    "    diam = 0.25\n",
    "    technics = 5\n",
    "    \n",
    "    corner1 = cylinder(d=diam*1.75,h=h)\n",
    "    corner2 = translate([size,0,0])(corner1)\n",
    "    corner3 = translate([0,size,0])(corner1)\n",
    "    corner4 = translate([size,size,0])(corner1)\n",
    "    \n",
    "    base = hull()(corner1,corner2,corner3,corner4)\n",
    "    #r.render(base)\n",
    "    \n",
    "    mount1 = cylinder(d=diam,h=h)\n",
    "    mount2 = translate([size,0,0])(mount1)\n",
    "    mount3 = translate([0,size,0])(mount1)\n",
    "    mount4 = translate([size,size,0])(mount1)\n",
    "    shaft = translate([size/2,size/2,0])(cylinder(d=2*diam,h=h))\n",
    "    mounts = mount1 + mount2 + mount3 + mount4 + shaft\n",
    "    #r.render(mounts)\n",
    "    \n",
    "    plate = base - hole()(mounts)\n",
    "    #r.render(plate)\n",
    "    \n",
    "    technicx = 0\n",
    "    for i in range(1,technics):\n",
    "        technicx += translate([i*size/technics,0,0])(cylinder(d=diam*1.25,h=h))\n",
    "    technicx += translate([0,size,0])(technicx)   \n",
    "    \n",
    "    technicy = 0\n",
    "    for i in range(1,technics):\n",
    "        technicy += translate([0,i*size/technics,0])(cylinder(d=diam*1.25,h=h))\n",
    "    technicy += translate([size,0,0])(technicy)\n",
    "    \n",
    "    technic = technicy + technicx\n",
    "    #r.render(technic)\n",
    "    plate = plate - hole()(technic)\n",
    "    r.render(plate)\n",
    "    \n",
    "nema(34)"
   ]
  },
  {
   "cell_type": "code",
   "execution_count": 57,
   "metadata": {},
   "outputs": [
    {
     "data": {
      "application/vnd.jupyter.widget-view+json": {
       "model_id": "f3c458e44efb4596b038e87a0971b080",
       "version_major": 2,
       "version_minor": 0
      },
      "text/plain": [
       "VBox(children=(HTML(value=''), Renderer(background='#cccc88', background_opacity=0.0, camera=PerspectiveCamera…"
      ]
     },
     "metadata": {},
     "output_type": "display_data"
    }
   ],
   "source": [
    "def couple(shaft):\n",
    "    h=5\n",
    "    body = cylinder(d=3*shaft,h=2*h)\n",
    "    delete = cube([shaft,shaft/3,h],True)+cube([shaft/3,shaft,h],True)\n",
    "    delete = translate([0,0,3*h/2])(delete)\n",
    "    final = body - hole()(delete)\n",
    "    r.render(final)\n",
    "    \n",
    "couple(2)"
   ]
  }
 ],
 "metadata": {
  "kernelspec": {
   "display_name": "Python 3",
   "language": "python",
   "name": "python3"
  },
  "language_info": {
   "codemirror_mode": {
    "name": "ipython",
    "version": 3
   },
   "file_extension": ".py",
   "mimetype": "text/x-python",
   "name": "python",
   "nbconvert_exporter": "python",
   "pygments_lexer": "ipython3",
   "version": "3.7.3"
  }
 },
 "nbformat": 4,
 "nbformat_minor": 2
}
