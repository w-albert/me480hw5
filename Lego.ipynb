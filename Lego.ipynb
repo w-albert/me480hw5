{
 "cells": [
  {
   "cell_type": "code",
   "execution_count": 47,
   "metadata": {},
   "outputs": [
    {
     "data": {
      "application/vnd.jupyter.widget-view+json": {
       "model_id": "06b665f92d8b4440a816a7019916369a",
       "version_major": 2,
       "version_minor": 0
      },
      "text/plain": [
       "VBox(children=(HTML(value=''), Renderer(background='#cccc88', background_opacity=0.0, camera=PerspectiveCamera…"
      ]
     },
     "metadata": {},
     "output_type": "display_data"
    }
   ],
   "source": [
    "from solid import *\n",
    "from solid.utils import *\n",
    "import viewscad\n",
    "\n",
    "r = viewscad.Renderer(openscad_exec='C:\\Program Files\\OpenSCAD\\openscad.exe')\n",
    "\n",
    "def technic(l,w): #,x):\n",
    "    h = 10\n",
    "    diam = 5\n",
    "    d = diam + 2\n",
    "    corner1 = (cylinder(d=diam+2,h=h))\n",
    "    corner2 = translate([(l-1)*d,0,0])(corner1)\n",
    "    corner3 = translate([0,(w-1)*d,0])(corner1)\n",
    "    corner4 = translate([(l-1)*d,(w-1)*d,0])(corner1)\n",
    "    base = hull()(corner1,corner2,corner3,corner4)\n",
    "    #r.render(base)\n",
    "    \n",
    "    holes = 0\n",
    "    for i in range(0,l):\n",
    "        holes = holes + translate([i*d,0,0])(cylinder(d=diam,h=h))\n",
    "    for j in range(0,w):\n",
    "        holes = holes + translate([0,j*d,0])(holes)\n",
    "    #r.render(holes)\n",
    "    \n",
    "    beam = base - hole()(holes)\n",
    "    r.render(beam)\n",
    "    \n",
    "    \n",
    "    #if x == True:\n",
    "    #    hole = cube([diam,diam/3,h],True)+cube([diam/2,diam,h],True)\n",
    "    #    outer = base\n",
    "    #    outer = outer + hole()(hole)\n",
    "    #    r.render(base)\n",
    "    \n",
    "technic(5,2)"
   ]
  }
 ],
 "metadata": {
  "kernelspec": {
   "display_name": "Python 3",
   "language": "python",
   "name": "python3"
  },
  "language_info": {
   "codemirror_mode": {
    "name": "ipython",
    "version": 3
   },
   "file_extension": ".py",
   "mimetype": "text/x-python",
   "name": "python",
   "nbconvert_exporter": "python",
   "pygments_lexer": "ipython3",
   "version": "3.7.3"
  }
 },
 "nbformat": 4,
 "nbformat_minor": 2
}
