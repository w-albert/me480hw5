{
 "cells": [
  {
   "cell_type": "code",
   "execution_count": 31,
   "metadata": {},
   "outputs": [
    {
     "data": {
      "application/vnd.jupyter.widget-view+json": {
       "model_id": "b60ab8ee20814e9f8612e848becc3e8d",
       "version_major": 2,
       "version_minor": 0
      },
      "text/plain": [
       "VBox(children=(HTML(value=''), Renderer(background='#cccc88', background_opacity=0.0, camera=PerspectiveCamera…"
      ]
     },
     "metadata": {},
     "output_type": "display_data"
    }
   ],
   "source": [
    "from solid import *\n",
    "from solid.utils import *\n",
    "import viewscad\n",
    "import numpy as np\n",
    "import math\n",
    "\n",
    "r = viewscad.Renderer(openscad_exec='C:\\Program Files\\OpenSCAD\\openscad.exe')\n",
    "\n",
    "#1a\n",
    "unit = cube(1, True)\n",
    "#r.render(unit)\n",
    "\n",
    "theta = [20,10,30]\n",
    "\n",
    "R_z1 = np.array([[math.cos(theta[0]),    -math.sin(theta[0]),    0],\n",
    "                [math.sin(theta[0]),    math.cos(theta[0]),     0],\n",
    "                [0,                     0,                      1]\n",
    "                ])\n",
    "    \n",
    "R_x = np.array([[1,         0,                  0                   ],\n",
    "                [0,         math.cos(theta[1]), -math.sin(theta[1]) ],\n",
    "                [0,         math.sin(theta[1]), math.cos(theta[1])  ]\n",
    "                ])\n",
    "                          \n",
    "R_z2 = np.array([[math.cos(theta[2]),    -math.sin(theta[2]),    0],\n",
    "                [math.sin(theta[2]),    math.cos(theta[2]),     0],\n",
    "                [0,                     0,                      1]\n",
    "                ])\n",
    "                     \n",
    "                     \n",
    "R = np.dot(R_z1, R_x)\n",
    "R = np.dot(R, R_z2)\n",
    "\n",
    "rotated = multmatrix(R)(unit)\n",
    "r.render(rotated)"
   ]
  },
  {
   "cell_type": "code",
   "execution_count": 32,
   "metadata": {},
   "outputs": [
    {
     "data": {
      "application/vnd.jupyter.widget-view+json": {
       "model_id": "489d12092fd849c595b0bae8bb869b09",
       "version_major": 2,
       "version_minor": 0
      },
      "text/plain": [
       "VBox(children=(HTML(value=''), Renderer(background='#cccc88', background_opacity=0.0, camera=PerspectiveCamera…"
      ]
     },
     "metadata": {},
     "output_type": "display_data"
    },
    {
     "data": {
      "application/vnd.jupyter.widget-view+json": {
       "model_id": "b477343716b140c3ad58fded36061f47",
       "version_major": 2,
       "version_minor": 0
      },
      "text/plain": [
       "VBox(children=(HTML(value=''), Renderer(background='#cccc88', background_opacity=0.0, camera=PerspectiveCamera…"
      ]
     },
     "metadata": {},
     "output_type": "display_data"
    },
    {
     "data": {
      "application/vnd.jupyter.widget-view+json": {
       "model_id": "d3e9f88e402f4deda5557e526a15a5c2",
       "version_major": 2,
       "version_minor": 0
      },
      "text/plain": [
       "VBox(children=(HTML(value=''), Renderer(background='#cccc88', background_opacity=0.0, camera=PerspectiveCamera…"
      ]
     },
     "metadata": {},
     "output_type": "display_data"
    }
   ],
   "source": [
    "#1b\n",
    "move = [-5,-5,0]\n",
    "moved = translate(move)(unit)\n",
    "r.render(moved)\n",
    "rot_moved = multmatrix(R)(moved)\n",
    "r.render(rot_moved)\n",
    "rot_origin = translate([5,5,0])(rot_moved)\n",
    "r.render(rot_origin)"
   ]
  },
  {
   "cell_type": "code",
   "execution_count": 29,
   "metadata": {},
   "outputs": [
    {
     "data": {
      "application/vnd.jupyter.widget-view+json": {
       "model_id": "26bb477ace554f35af11dfe69c86f170",
       "version_major": 2,
       "version_minor": 0
      },
      "text/plain": [
       "VBox(children=(HTML(value=''), Renderer(background='#cccc88', background_opacity=0.0, camera=PerspectiveCamera…"
      ]
     },
     "metadata": {},
     "output_type": "display_data"
    },
    {
     "data": {
      "application/vnd.jupyter.widget-view+json": {
       "model_id": "2fb19f7517cc4653820f75c7c8367a49",
       "version_major": 2,
       "version_minor": 0
      },
      "text/plain": [
       "VBox(children=(HTML(value=''), Renderer(background='#cccc88', background_opacity=0.0, camera=PerspectiveCamera…"
      ]
     },
     "metadata": {},
     "output_type": "display_data"
    },
    {
     "data": {
      "application/vnd.jupyter.widget-view+json": {
       "model_id": "c7305750342241b491699c27b6a2bde6",
       "version_major": 2,
       "version_minor": 0
      },
      "text/plain": [
       "VBox(children=(HTML(value=''), Renderer(background='#cccc88', background_opacity=0.0, camera=PerspectiveCamera…"
      ]
     },
     "metadata": {},
     "output_type": "display_data"
    }
   ],
   "source": [
    "#1c\n",
    "unit = cube(1, True)\n",
    "\n",
    "b = 0.5\n",
    "\n",
    "Sx = np.array([[1, b, 0],\n",
    "               [0, 1, 0],\n",
    "               [0, 0, 1]])\n",
    "\n",
    "Sy = np.array([[1, 0, 0],\n",
    "               [b, 1, 0],\n",
    "               [0, 0, 1]])\n",
    "\n",
    "Sz = np.array([[1, 0, 0],\n",
    "               [0, 1, 0],\n",
    "               [0, b, 1]])\n",
    "\n",
    "shearx = multmatrix(Sx)(unit)\n",
    "r.render(shearx)\n",
    "\n",
    "sheary = multmatrix(Sy)(unit)\n",
    "r.render(sheary)\n",
    "\n",
    "shearz = multmatrix(Sz)(unit)\n",
    "r.render(shearz)\n"
   ]
  }
 ],
 "metadata": {
  "kernelspec": {
   "display_name": "Python 3",
   "language": "python",
   "name": "python3"
  },
  "language_info": {
   "codemirror_mode": {
    "name": "ipython",
    "version": 3
   },
   "file_extension": ".py",
   "mimetype": "text/x-python",
   "name": "python",
   "nbconvert_exporter": "python",
   "pygments_lexer": "ipython3",
   "version": "3.7.3"
  }
 },
 "nbformat": 4,
 "nbformat_minor": 2
}
