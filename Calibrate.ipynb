{
 "cells": [
  {
   "cell_type": "code",
   "execution_count": 2,
   "metadata": {},
   "outputs": [
    {
     "data": {
      "application/vnd.jupyter.widget-view+json": {
       "model_id": "e1a1de147d924496907e2b0d92ac936f",
       "version_major": 2,
       "version_minor": 0
      },
      "text/plain": [
       "VBox(children=(HTML(value=''), Renderer(background='#cccc88', background_opacity=0.0, camera=PerspectiveCamera…"
      ]
     },
     "metadata": {},
     "output_type": "display_data"
    }
   ],
   "source": [
    "from solid import *\n",
    "from solid.utils import *\n",
    "import viewscad\n",
    "\n",
    "r = viewscad.Renderer(openscad_exec='C:\\Program Files\\OpenSCAD\\openscad.exe')\n",
    "#1a\n",
    "#2a\n",
    "outer = cylinder(r=10,h=10,segments=50)\n",
    "inner = cylinder(r=5,h=10,segments=50)\n",
    "cyl = outer - hole()(inner)\n",
    "r.render(cyl)\n",
    "\n"
   ]
  },
  {
   "cell_type": "code",
   "execution_count": 1,
   "metadata": {},
   "outputs": [
    {
     "ename": "NameError",
     "evalue": "name 'cylinder' is not defined",
     "output_type": "error",
     "traceback": [
      "\u001b[1;31m---------------------------------------------------------------------------\u001b[0m",
      "\u001b[1;31mNameError\u001b[0m                                 Traceback (most recent call last)",
      "\u001b[1;32m<ipython-input-1-e020925d8f6f>\u001b[0m in \u001b[0;36m<module>\u001b[1;34m\u001b[0m\n\u001b[0;32m      9\u001b[0m         \u001b[0mr\u001b[0m\u001b[1;33m.\u001b[0m\u001b[0mrender\u001b[0m\u001b[1;33m(\u001b[0m\u001b[0mpipe\u001b[0m\u001b[1;33m)\u001b[0m\u001b[1;33m\u001b[0m\u001b[1;33m\u001b[0m\u001b[0m\n\u001b[0;32m     10\u001b[0m \u001b[1;33m\u001b[0m\u001b[0m\n\u001b[1;32m---> 11\u001b[1;33m \u001b[0mcyl_gen\u001b[0m\u001b[1;33m(\u001b[0m\u001b[1;36m2\u001b[0m\u001b[1;33m,\u001b[0m\u001b[1;36m5\u001b[0m\u001b[1;33m)\u001b[0m\u001b[1;33m\u001b[0m\u001b[1;33m\u001b[0m\u001b[0m\n\u001b[0m",
      "\u001b[1;32m<ipython-input-1-e020925d8f6f>\u001b[0m in \u001b[0;36mcyl_gen\u001b[1;34m(id, od)\u001b[0m\n\u001b[0;32m      4\u001b[0m         \u001b[0mprint\u001b[0m\u001b[1;33m(\u001b[0m\u001b[1;34m\"Invalid input\"\u001b[0m\u001b[1;33m)\u001b[0m\u001b[1;33m\u001b[0m\u001b[1;33m\u001b[0m\u001b[0m\n\u001b[0;32m      5\u001b[0m     \u001b[1;32melse\u001b[0m\u001b[1;33m:\u001b[0m\u001b[1;33m\u001b[0m\u001b[1;33m\u001b[0m\u001b[0m\n\u001b[1;32m----> 6\u001b[1;33m         \u001b[0mouter\u001b[0m \u001b[1;33m=\u001b[0m \u001b[0mcylinder\u001b[0m\u001b[1;33m(\u001b[0m\u001b[0md\u001b[0m \u001b[1;33m=\u001b[0m \u001b[0mod\u001b[0m\u001b[1;33m)\u001b[0m\u001b[1;33m\u001b[0m\u001b[1;33m\u001b[0m\u001b[0m\n\u001b[0m\u001b[0;32m      7\u001b[0m         \u001b[0minner\u001b[0m \u001b[1;33m=\u001b[0m \u001b[0mcylinder\u001b[0m\u001b[1;33m(\u001b[0m\u001b[0md\u001b[0m \u001b[1;33m=\u001b[0m \u001b[0mid\u001b[0m\u001b[1;33m)\u001b[0m\u001b[1;33m\u001b[0m\u001b[1;33m\u001b[0m\u001b[0m\n\u001b[0;32m      8\u001b[0m         \u001b[0mpipe\u001b[0m \u001b[1;33m=\u001b[0m \u001b[0mouter\u001b[0m \u001b[1;33m-\u001b[0m \u001b[0mhole\u001b[0m\u001b[1;33m(\u001b[0m\u001b[1;33m)\u001b[0m\u001b[1;33m(\u001b[0m\u001b[0minner\u001b[0m\u001b[1;33m)\u001b[0m\u001b[1;33m\u001b[0m\u001b[1;33m\u001b[0m\u001b[0m\n",
      "\u001b[1;31mNameError\u001b[0m: name 'cylinder' is not defined"
     ]
    }
   ],
   "source": [
    "#1b\n",
    "def cyl_gen(id=5, od=10):\n",
    "    if type(id) == str or type(od) == \"str\":\n",
    "        print(\"Invalid input\")\n",
    "    else:\n",
    "        outer = cylinder(d = od)\n",
    "        inner = cylinder(d = id)\n",
    "        pipe = outer - hole()(inner)\n",
    "        r.render(pipe)\n",
    "    \n",
    "cyl_gen(2,5)"
   ]
  },
  {
   "cell_type": "code",
   "execution_count": 102,
   "metadata": {},
   "outputs": [
    {
     "data": {
      "application/vnd.jupyter.widget-view+json": {
       "model_id": "18505dadcab743adbea49662e1e9425b",
       "version_major": 2,
       "version_minor": 0
      },
      "text/plain": [
       "VBox(children=(HTML(value=''), Renderer(background='#cccc88', background_opacity=0.0, camera=PerspectiveCamera…"
      ]
     },
     "metadata": {},
     "output_type": "display_data"
    }
   ],
   "source": [
    "#1c\n",
    "def overlap(dims):\n",
    "    # dims = [id1, id2, t]\n",
    "    id1 = dims[0]\n",
    "    id2 = dims[1]\n",
    "    t = dims[2]\n",
    "    \n",
    "    pipe1in = cylinder(d=id1)\n",
    "    pipe1out = cylinder(d=(id1+t))\n",
    "    pipe1 = pipe1out+hole()(pipe1in)\n",
    "    #r.render(pipe1)\n",
    "    \n",
    "    pipe2in = cylinder(d=id2)\n",
    "    pipe2out = cylinder(d=(id2+t))\n",
    "    pipe2 = pipe2out+hole()(pipe2in)\n",
    "    #r.render(pipe2)\n",
    "    \n",
    "    pipe2move = translate([0,(id1+t/1.5),0])(pipe2)\n",
    "    #r.render(pipe2move)\n",
    "    \n",
    "    both = pipe2move+pipe1\n",
    "    r.render(both)\n",
    "\n",
    "dims = [2, 4, 4]\n",
    "overlap(dims)"
   ]
  },
  {
   "cell_type": "code",
   "execution_count": 9,
   "metadata": {},
   "outputs": [
    {
     "data": {
      "text/plain": [
       "'\\n\\nunion() {\\n\\ttranslate(v = [0, 0, -1]) {\\n\\t\\thull() {\\n\\t\\t\\tcylinder(d = 7.2000000000, h = 3);\\n\\t\\t\\ttranslate(v = [24, 0, 0]) {\\n\\t\\t\\t\\tcylinder(d = 6.2000000000, h = 3);\\n\\t\\t\\t}\\n\\t\\t}\\n\\t}\\n\\tunion() {\\n\\t\\tcylinder(d = 5.2000000000, h = 8);\\n\\t\\ttranslate(v = [8, 0, 0]) {\\n\\t\\t\\tcylinder(d = 5.2000000000, h = 8);\\n\\t\\t}\\n\\t\\ttranslate(v = [16, 0, 0]) {\\n\\t\\t\\tcylinder(d = 5.2000000000, h = 8);\\n\\t\\t}\\n\\t\\ttranslate(v = [24, 0, 0]) {\\n\\t\\t\\tcylinder(d = 5.2000000000, h = 8);\\n\\t\\t}\\n\\t}\\n}'"
      ]
     },
     "execution_count": 9,
     "metadata": {},
     "output_type": "execute_result"
    }
   ],
   "source": [
    "#2b\n",
    "#Make a new function that takes in a list of diameters,\n",
    "#a separation distance, and a height and generates cylindrical posts \n",
    "#and connects them together to a common base.\n",
    "\n",
    "def postgen(dims):\n",
    "    #dims = [d1, d2, d3, d4, sepdist, postheight]\n",
    "    d1 = dims[0]\n",
    "    d2 = dims[1]\n",
    "    d3 = dims[2]\n",
    "    d4 = dims[3]\n",
    "    sd = dims[4]\n",
    "    ht = dims[5]\n",
    "    \n",
    "    post1 = cylinder(d=d1,h=ht)\n",
    "    post2 = translate([sd,0,0])(cylinder(d=d2,h=ht))\n",
    "    post3 = translate([2*sd,0,0])(cylinder(d=d3,h=ht))\n",
    "    post4 = translate([3*sd,0,0])(cylinder(d=d4,h=ht))\n",
    "    posts = post1 + post2 + post3 + post4\n",
    "    #r.render(posts)\n",
    "    \n",
    "    base1 = cylinder(d=d1+2,h=3)\n",
    "    base2 = translate([3*sd,0,0])(cylinder(d=d4+1,h=3))\n",
    "    base = hull()(base1,base2)\n",
    "    base = translate([0,0,-1])(base)\n",
    "    #r.render(base)\n",
    "    \n",
    "    all = base + posts\n",
    "    r.render(all)\n",
    "    #return all\n",
    "    \n",
    "    \n",
    "postdims = [5.2,5.2,5.2,5.2,8,8]\n",
    "postgen(postdims)\n",
    "\n",
    "#scad_render(postgen(postdims))"
   ]
  }
 ],
 "metadata": {
  "kernelspec": {
   "display_name": "Python 3",
   "language": "python",
   "name": "python3"
  },
  "language_info": {
   "codemirror_mode": {
    "name": "ipython",
    "version": 3
   },
   "file_extension": ".py",
   "mimetype": "text/x-python",
   "name": "python",
   "nbconvert_exporter": "python",
   "pygments_lexer": "ipython3",
   "version": "3.7.3"
  }
 },
 "nbformat": 4,
 "nbformat_minor": 2
}
