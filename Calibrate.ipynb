{
 "cells": [
  {
   "cell_type": "code",
   "execution_count": 3,
   "metadata": {},
   "outputs": [
    {
     "data": {
      "application/vnd.jupyter.widget-view+json": {
       "model_id": "25575a6b5d594963b308467f498eeb59",
       "version_major": 2,
       "version_minor": 0
      },
      "text/plain": [
       "VBox(children=(HTML(value=''), Renderer(background='#cccc88', background_opacity=0.0, camera=PerspectiveCamera…"
      ]
     },
     "metadata": {},
     "output_type": "display_data"
    }
   ],
   "source": [
    "from solid import *\n",
    "from solid.utils import *\n",
    "import viewscad\n",
    "\n",
    "r = viewscad.Renderer(openscad_exec='C:\\Program Files\\OpenSCAD\\openscad.exe')\n",
    "\n",
    "\n",
    "outer = cylinder(d=10,h=10,segments=50)\n",
    "inner = cylinder(d=5,h=10,segments=50)\n",
    "cyl = outer - hole()(inner)\n",
    "r.render(cyl)\n",
    "\n"
   ]
  },
  {
   "cell_type": "code",
   "execution_count": 44,
   "metadata": {},
   "outputs": [
    {
     "data": {
      "application/vnd.jupyter.widget-view+json": {
       "model_id": "a17a3bdc0fcc4f49a15a3ac5d732f400",
       "version_major": 2,
       "version_minor": 0
      },
      "text/plain": [
       "VBox(children=(HTML(value=''), Renderer(background='#cccc88', background_opacity=0.0, camera=PerspectiveCamera…"
      ]
     },
     "metadata": {},
     "output_type": "display_data"
    }
   ],
   "source": [
    "def cyl_gen(id=5, od=10):\n",
    "    if type(id) == str or type(od) == \"str\":\n",
    "        print(\"Invalid input\")\n",
    "    else:\n",
    "        outer = cylinder(d = od)\n",
    "        inner = cylinder(d = id)\n",
    "        pipe = outer - hole()(inner)\n",
    "        r.render(pipe)\n",
    "    \n",
    "cyl_gen(1,5)"
   ]
  },
  {
   "cell_type": "code",
   "execution_count": 102,
   "metadata": {},
   "outputs": [
    {
     "data": {
      "application/vnd.jupyter.widget-view+json": {
       "model_id": "18505dadcab743adbea49662e1e9425b",
       "version_major": 2,
       "version_minor": 0
      },
      "text/plain": [
       "VBox(children=(HTML(value=''), Renderer(background='#cccc88', background_opacity=0.0, camera=PerspectiveCamera…"
      ]
     },
     "metadata": {},
     "output_type": "display_data"
    }
   ],
   "source": [
    "#Make a function that takes in a list of inner diameters,\n",
    "#and a wall thickness, and return a single part that has holes of the diameters specified\n",
    "#with cylindrical walls around them that overlap like so:\n",
    "    \n",
    "    \n",
    "def overlap(dims):\n",
    "    # dims = [id1, id2, t]\n",
    "    id1 = dims[0]\n",
    "    id2 = dims[1]\n",
    "    t = dims[2]\n",
    "    \n",
    "    pipe1in = cylinder(d=id1)\n",
    "    pipe1out = cylinder(d=(id1+t))\n",
    "    pipe1 = pipe1out+hole()(pipe1in)\n",
    "    #r.render(pipe1)\n",
    "    \n",
    "    pipe2in = cylinder(d=id2)\n",
    "    pipe2out = cylinder(d=(id2+t))\n",
    "    pipe2 = pipe2out+hole()(pipe2in)\n",
    "    #r.render(pipe2)\n",
    "    \n",
    "    pipe2move = translate([0,(id1+t/1.5),0])(pipe2)\n",
    "    #r.render(pipe2move)\n",
    "    \n",
    "    both = pipe2move+pipe1\n",
    "    r.render(both)\n",
    "\n",
    "dims = [2, 4, 4]\n",
    "overlap(dims)"
   ]
  }
 ],
 "metadata": {
  "kernelspec": {
   "display_name": "Python 3",
   "language": "python",
   "name": "python3"
  },
  "language_info": {
   "codemirror_mode": {
    "name": "ipython",
    "version": 3
   },
   "file_extension": ".py",
   "mimetype": "text/x-python",
   "name": "python",
   "nbconvert_exporter": "python",
   "pygments_lexer": "ipython3",
   "version": "3.7.3"
  }
 },
 "nbformat": 4,
 "nbformat_minor": 2
}
